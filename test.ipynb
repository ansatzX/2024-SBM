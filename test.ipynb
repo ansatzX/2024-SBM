{
 "cells": [
  {
   "cell_type": "code",
   "execution_count": null,
   "metadata": {},
   "outputs": [],
   "source": [
    "# fig 1\n",
    "alpha_lst = [0.05, 0.15, 0.2, 0.3, 0.4, 0.5, 0.8]\n",
    "s_lst   = [0.7 for _ in range(7)]\n",
    "# omega_c_lst = [ 10 for _ in range(7)]\n",
    "# nmodes_lst = [ 1000 for _ in range(7)]\n",
    "# bond_dims_lst = [20 for _ in range(7)]\n",
    "\n",
    "# td_method_lst = [0 for _ in range(7)]\n",
    "mutual_lst = [1 for _ in range(7)]"
   ]
  },
  {
   "cell_type": "code",
   "execution_count": null,
   "metadata": {},
   "outputs": [],
   "source": [
    "# fig 2\n",
    "alpha_lst = [0.8 for _ in range(7)]\n",
    "s_lst   = [0.3, 0.4, 0.45, 0.5, 0.55, 0.6, 0.7 ]\n",
    "# omega_c_lst = [ 10 for _ in range(7)]\n",
    "# nmodes_lst = [ 1000 for _ in range(7)]\n",
    "# bond_dims_lst = [20 for _ in range(7)]\n",
    "# td_method_lst = [0 for _ in range(7)]"
   ]
  },
  {
   "cell_type": "code",
   "execution_count": null,
   "metadata": {},
   "outputs": [],
   "source": [
    "# fig 3\n",
    "alpha_lst = [0.05, 0.1, 0.125, 0.15, 0.2, 0.25, 0.3, 0.5, 0.8]\n",
    "s_lst   = [0.3 for _ in range(9)]\n",
    "# omega_c_lst = [ 10 for _ in range(9)]\n",
    "\n",
    "# nmodes_lst = [ 1000 for _ in range(9)]\n",
    "# bond_dims_lst = [20 for _ in range(9)]\n",
    "# td_method_lst = [0 for _ in range(7)]"
   ]
  },
  {
   "cell_type": "code",
   "execution_count": null,
   "metadata": {},
   "outputs": [],
   "source": [
    "# parm_test\\\n",
    "# fig3 \n",
    "alpha_lst = [0.05 for _ in range(9)]\n",
    "s_lst   = [0.3 for _ in range(9)]\n",
    "omega_c_lst = [ 10 for _ in range(9)]\n",
    "nmodes_lst = [ 1000 for _ in range(9)]\n",
    "bond_dims_lst = [20+i*5  for i in range(9)]\n",
    "td_method_lst = [0 for _ in range(7)]\n",
    "\n",
    "\n",
    "# results: nmodes=1000 is enough"
   ]
  },
  {
   "cell_type": "code",
   "execution_count": null,
   "metadata": {},
   "outputs": [],
   "source": [
    "# parm_test\\\n",
    "# fig3 \n",
    "alpha_lst = [0.05 for _ in range(9)]\n",
    "s_lst   = [0.3 for _ in range(9)]\n",
    "omega_c_lst = [ 10 for _ in range(9)]\n",
    "nmodes_lst = [ 1000+i*100 for i in range(9)]\n",
    "bond_dims_lst = [20 for _ in range(9)]\n",
    "td_method_lst = [0 for _ in range(7)]\n",
    "# results: bond_dims=20 is enough"
   ]
  },
  {
   "cell_type": "code",
   "execution_count": null,
   "metadata": {},
   "outputs": [],
   "source": [
    "# parm_test\\\n",
    "# fig3 \n",
    "alpha_lst = [0.05 for _ in range(4)]\n",
    "s_lst   = [0.3 for _ in range(4)]\n",
    "omega_c_lst = [ 10 for _ in range(4)]\n",
    "nmodes_lst = [ 1000 for _ in range(4)]\n",
    "bond_dims_lst = [20 for _ in range(4)]\n",
    "td_method_lst = [i for i in range(4)]"
   ]
  },
  {
   "cell_type": "code",
   "execution_count": null,
   "metadata": {},
   "outputs": [],
   "source": [
    "# phase diagram mutual info\n",
    "alpha_lst=[]\n",
    "s_lst = []\n",
    "for alpha in [0.1*_ +0.1 for _ in range(9)]:\n",
    "    for s in [0.1*_ +0.1 for _ in range(9)]:\n",
    "        alpha_lst.append(alpha)\n",
    "        s_lst.append(s)\n"
   ]
  },
  {
   "cell_type": "code",
   "execution_count": 1,
   "metadata": {},
   "outputs": [],
   "source": [
    "# rho check\n",
    "alpha_lst=[ \n",
    "                0.05, 0.4, 0.8, \n",
    "                0.05, 0.4, 0.8, \n",
    "                0.05, 0.4, 0.8, \n",
    "                0.05, 0.4, 0.8]\n",
    "s_lst = [0.7 for _ in range(12)]\n",
    "\n",
    "rho_type_lst = [\n",
    "                0, 0, 0, \n",
    "                1, 1, 1, \n",
    "                0, 0, 0,\n",
    "                1, 1, 1,]\n",
    "nmodes_lst = [\n",
    "              1000, 1000, 1000, \n",
    "              1000, 1000, 1000, \n",
    "              800, 800, 800, \n",
    "              800, 800, 800]\n",
    "# \n",
    "alpha_lst.extend([ \n",
    "                0.05, 0.2, 0.4, \n",
    "                0.05, 0.2, 0.4, \n",
    "                0.05, 0.2, 0.4, \n",
    "                0.05, 0.2, 0.4])\n",
    "\n",
    "s_lst.extend([0.4 for _ in range(12)])\n",
    "\n",
    "rho_type_lst.extend([\n",
    "                0, 0, 0, \n",
    "                1, 1, 1, \n",
    "                0, 0, 0,\n",
    "                1, 1, 1,])\n",
    "nmodes_lst.extend([\n",
    "              1000, 1000, 1000, \n",
    "              1000, 1000, 1000, \n",
    "              800, 800, 800, \n",
    "              800, 800, 800])\n",
    "# \n",
    "s_lst.extend([ \n",
    "                0.3, 0.4, 0.5, \n",
    "                0.3, 0.4, 0.5,  \n",
    "                0.3, 0.4, 0.5, \n",
    "                0.3, 0.4, 0.5])\n",
    "\n",
    "alpha_lst.extend([0.48 for _ in range(12)])\n",
    "\n",
    "rho_type_lst.extend([\n",
    "                0, 0, 0, \n",
    "                1, 1, 1, \n",
    "                0, 0, 0,\n",
    "                1, 1, 1,])\n",
    "nmodes_lst.extend([\n",
    "              1000, 1000, 1000, \n",
    "              1000, 1000, 1000, \n",
    "              800, 800, 800, \n",
    "              800, 800, 800])"
   ]
  },
  {
   "cell_type": "code",
   "execution_count": 2,
   "metadata": {},
   "outputs": [],
   "source": [
    "alpha_lst=[ \n",
    "                0.05, 0.10, 0.4, 0.8, \n",
    "                0.8, 0.8, 0.8,\n",
    "                0.01, 0.05, 0.1, 0.15, 0.2,\n",
    "                0.05, 0.1, 0.2, 0.25, 0.3]\n",
    "s_lst = [0.7, 0.7, 0.7, 0.7,\n",
    "                        0.3, 0.4, 0.5, \n",
    "                        0.1, 0.1, 0.1, 0.1, 0.1,\n",
    "                        0.4, 0.4, 0.4, 0.4, 0.4,\n",
    "                        ]"
   ]
  },
  {
   "cell_type": "code",
   "execution_count": 3,
   "metadata": {},
   "outputs": [],
   "source": [
    "input = 'done.txt'\n",
    "\n",
    "with open(input, 'r') as f:\n",
    "    textlines = f.readlines()\n",
    "done = []\n",
    "for line in textlines:\n",
    "    s = line.split('_')[1][1:]\n",
    "    alpha = line.split('_')[2][5:]\n",
    "    done.append(f'{s}-{alpha}')"
   ]
  },
  {
   "cell_type": "code",
   "execution_count": 4,
   "metadata": {},
   "outputs": [],
   "source": [
    "\n",
    "done = sorted(list(set(done)))"
   ]
  },
  {
   "cell_type": "code",
   "execution_count": 5,
   "metadata": {},
   "outputs": [
    {
     "data": {
      "text/plain": [
       "36"
      ]
     },
     "execution_count": 5,
     "metadata": {},
     "output_type": "execute_result"
    }
   ],
   "source": [
    "len(done)"
   ]
  },
  {
   "cell_type": "code",
   "execution_count": 3,
   "metadata": {},
   "outputs": [],
   "source": [
    "done = []"
   ]
  },
  {
   "cell_type": "code",
   "execution_count": 9,
   "metadata": {},
   "outputs": [],
   "source": [
    "f = open('run.sh','w')\n",
    "for idx in range(len(s_lst)):\n",
    "        # com_file = com_lst[idx]\n",
    "        s = s_lst[idx]\n",
    "        alpha = alpha_lst[idx]\n",
    "        # omega_c = omega_c_lst[idx]\n",
    "        \n",
    "        # nmodes = nmodes_lst[idx]\n",
    "\n",
    "        # bond_dims = bond_dims_lst[idx]\n",
    "        # td_method = td_method_lst[idx]\n",
    "        # entropy = 0\n",
    "        nmodes = 1000\n",
    "        nsteps = 500\n",
    "        rho_type = 0\n",
    "        # rho_type = rho_type_lst[idx]\n",
    "        # print(f'{s:.2f}, {alpha:.2f}' )\n",
    "        if f'{s:.2f}-{alpha:.2f}' not in done:\n",
    "                f.write(f'python3 traj_run.py --s {s:.03} --alpha {alpha:.03} --rho_type {rho_type} --nmodes {nmodes} --calc_mutual_info 0 --calc_1sites_entropy 1 --nstep  {nsteps} --restart 0\\n')\n",
    "        # print(alpha, s)\n",
    "        # else:\n",
    "        #         print(f'{s:.2f}, {alpha:.2f}')\n",
    "f.close()"
   ]
  },
  {
   "cell_type": "code",
   "execution_count": 10,
   "metadata": {},
   "outputs": [],
   "source": [
    "ncpu = 56\n",
    "with open('run.sh','r') as f:\n",
    "    text_lines = f.readlines()\n",
    "\n",
    "slice = (0, len(text_lines))\n",
    "with open('p_run.make', 'w') as f:\n",
    "    all_str = ''\n",
    "    for i in range(slice[0], slice[1]):\n",
    "        all_str = all_str + f'\\trun{i}\\t'\n",
    "    f.write(f'all:\\t{all_str}\\n')\n",
    "    f.write('\\n')\n",
    "    for i in range(slice[0], slice[1]):\n",
    "        line = text_lines[i]\n",
    "        f.write(f'run{i}:\\n')\n",
    "        f.write(f'\\t{line}')\n",
    "        f.write('\\n')\n",
    "\n",
    "    for i in range(int(len(text_lines)/ncpu)):\n",
    "        batch_str = f'batch_{i}:'\n",
    "        for j in range(i*ncpu, ncpu*(i+1)):\n",
    "            batch_str = batch_str + f'\\trun{j}'\n",
    "        f.write(f'{batch_str}\\n') \n",
    "        f.write(f'\\techo batch_{i} calc\\n')\n",
    "    if len(text_lines)%ncpu:\n",
    "        batch_str = f'batch_remain:'\n",
    "        for j in range((int(len(text_lines)/ncpu))*ncpu, len(text_lines)):\n",
    "            batch_str = batch_str + f'\\trun{j}'\n",
    "        f.write(f'{batch_str}\\n') \n",
    "        f.write(f'\\techo batch_remain calc\\n')"
   ]
  },
  {
   "cell_type": "markdown",
   "metadata": {},
   "source": [
    "for folder in $(ls -tr|grep traj_s);do echo $folder;grep proceed  $(find $folder -name \"*.log\") ;done"
   ]
  },
  {
   "cell_type": "markdown",
   "metadata": {},
   "source": [
    "\n",
    "mkdir extract\n",
    "for folder in $(find . -name \"*_p.xvg\" |awk -F / '{print $2}'); do\n",
    "    mkdir extract/$folder;\n",
    "    cp  $folder/*step_mutual_infos.pickle extract/$folder ;\n",
    "    cp  $folder/expectations.pickle extract/$folder ;\n",
    "    #cp  $folder/entropy_1sites_traj.pickle extract/$folder ;\n",
    "    cp  $folder/sdf_wang1_omega.pickle extract/$folder ;\n",
    "    cp  $folder/*.xvg extract/$folder ;\n",
    "    cp  $folder/*.log extract/$folder ;\n",
    "done"
   ]
  },
  {
   "cell_type": "code",
   "execution_count": null,
   "metadata": {},
   "outputs": [],
   "source": [
    "len(text_lines)%ncpu\n"
   ]
  },
  {
   "cell_type": "code",
   "execution_count": null,
   "metadata": {},
   "outputs": [],
   "source": [
    "for i in range(int(len(text_lines)/16)):\n",
    "    batch_str = f'batch_{i}:'\n",
    "    for j in range(i*16, 16*(i+1)):\n",
    "        batch_str = batch_str + f'\\trun{j}'\n",
    "    print(batch_str)"
   ]
  },
  {
   "cell_type": "code",
   "execution_count": null,
   "metadata": {},
   "outputs": [],
   "source": [
    "int(len(text_lines)/16)"
   ]
  },
  {
   "cell_type": "code",
   "execution_count": null,
   "metadata": {},
   "outputs": [],
   "source": [
    "len(text_lines)"
   ]
  },
  {
   "cell_type": "code",
   "execution_count": null,
   "metadata": {},
   "outputs": [],
   "source": [
    "from rdkit import Chem \n",
    "import rdkit\n",
    "from rdkit.Chem import AllChem"
   ]
  },
  {
   "cell_type": "code",
   "execution_count": null,
   "metadata": {},
   "outputs": [],
   "source": [
    "smi_str = 'CC1=CN(c2[c-]c(-c3[nH+]c(-c4cc(C)c(C)c[nH+]4)cc(C)c3C)cc(C)c2)[C-]N1C'"
   ]
  },
  {
   "cell_type": "code",
   "execution_count": null,
   "metadata": {},
   "outputs": [],
   "source": [
    "mol = Chem.MolFromSmiles(smi_str, sanitize=False)\n"
   ]
  },
  {
   "cell_type": "code",
   "execution_count": null,
   "metadata": {},
   "outputs": [],
   "source": [
    "c_atom_ids = []\n",
    "for atom in mol.GetAtoms():\n",
    "    if atom.GetFormalCharge() != 0:\n",
    "        c_atom_ids.append(atom.GetIdx())"
   ]
  },
  {
   "cell_type": "code",
   "execution_count": null,
   "metadata": {},
   "outputs": [],
   "source": [
    "c_atom_ids"
   ]
  },
  {
   "cell_type": "code",
   "execution_count": null,
   "metadata": {},
   "outputs": [],
   "source": [
    "mol = Chem.RWMol(mol)"
   ]
  },
  {
   "cell_type": "code",
   "execution_count": null,
   "metadata": {},
   "outputs": [],
   "source": [
    "new_Pt = mol.AddAtom(Chem.Atom(78))"
   ]
  },
  {
   "cell_type": "code",
   "execution_count": null,
   "metadata": {},
   "outputs": [],
   "source": [
    "for atom_id in c_atom_ids:\n",
    "    mol.AddBond(atom_id, new_Pt, Chem.BondType.DATIVE)"
   ]
  },
  {
   "cell_type": "code",
   "execution_count": null,
   "metadata": {},
   "outputs": [],
   "source": [
    "mol"
   ]
  },
  {
   "cell_type": "code",
   "execution_count": null,
   "metadata": {},
   "outputs": [],
   "source": [
    "rdmol =mol.GetMol()"
   ]
  },
  {
   "cell_type": "code",
   "execution_count": null,
   "metadata": {},
   "outputs": [],
   "source": [
    "useRandomCoords = [False, True, True, True, True, True]\n",
    "boxSizeMult = [2.0, 2.0, 5.0, 12.0, 20.0, 50.0]\n",
    "for _ in range(6):\n",
    "    embedded_mol = Chem.AllChem.EmbedMolecule(rdmol, useRandomCoords=useRandomCoords[_], boxSizeMult=boxSizeMult[_])\n",
    "    if embedded_mol != 0:\n",
    "        continue\n",
    "    else: \n",
    "        break"
   ]
  },
  {
   "cell_type": "code",
   "execution_count": null,
   "metadata": {},
   "outputs": [],
   "source": [
    "writer = Chem.SDWriter('zwj.sdf')\n",
    "writer.write(rdmol)"
   ]
  },
  {
   "cell_type": "code",
   "execution_count": null,
   "metadata": {},
   "outputs": [],
   "source": []
  },
  {
   "cell_type": "code",
   "execution_count": null,
   "metadata": {},
   "outputs": [],
   "source": [
    "done = ['0.90, 0.60',\n",
    " '0.80, 0.50',\n",
    " '0.90, 0.40',\n",
    " '0.80, 0.70',\n",
    " '0.70, 0.40',\n",
    " '0.60, 0.70',\n",
    " '0.30, 0.70',\n",
    " '0.70, 0.60',\n",
    " '0.60, 0.50',\n",
    " '0.30, 0.50',\n",
    " '0.40, 0.50',\n",
    " '0.50, 0.60',\n",
    " '0.40, 0.70',\n",
    " '0.60, 0.40',\n",
    " '0.70, 0.70',\n",
    " '0.30, 0.60',\n",
    " '0.60, 0.60',\n",
    " '0.70, 0.50',\n",
    " '0.50, 0.50',\n",
    " '0.40, 0.60',\n",
    " '0.50, 0.70',\n",
    " '0.80, 0.60',\n",
    " '0.90, 0.50',\n",
    " '0.80, 0.40',\n",
    " '0.90, 0.70']"
   ]
  },
  {
   "cell_type": "code",
   "execution_count": null,
   "metadata": {},
   "outputs": [],
   "source": [
    "len(done)"
   ]
  },
  {
   "cell_type": "code",
   "execution_count": null,
   "metadata": {},
   "outputs": [],
   "source": [
    "input = 'done.txt'\n",
    "\n",
    "with open(input, 'r') as f:\n",
    "    textlines = f.readlines()"
   ]
  },
  {
   "cell_type": "code",
   "execution_count": null,
   "metadata": {},
   "outputs": [],
   "source": [
    "done1 = []\n",
    "for line in textlines:\n",
    "    s = line.split('_')[1][1:]\n",
    "    alpha = line.split('_')[2][5:]\n",
    "    done1.append(f'{s}-{alpha}')"
   ]
  },
  {
   "cell_type": "code",
   "execution_count": null,
   "metadata": {},
   "outputs": [],
   "source": [
    "s"
   ]
  },
  {
   "cell_type": "code",
   "execution_count": null,
   "metadata": {},
   "outputs": [],
   "source": [
    "alpha"
   ]
  },
  {
   "cell_type": "code",
   "execution_count": null,
   "metadata": {},
   "outputs": [],
   "source": [
    "from traj_run import rho_ohmic\n",
    "import numpy as np\n"
   ]
  },
  {
   "cell_type": "code",
   "execution_count": null,
   "metadata": {},
   "outputs": [],
   "source": [
    "sdf = rho_ohmic(0.1, 0.1, 0.1, 2)\n",
    "\n"
   ]
  },
  {
   "cell_type": "code",
   "execution_count": null,
   "metadata": {},
   "outputs": [],
   "source": [
    "w, c2 = sdf.Wang1(1000)"
   ]
  },
  {
   "cell_type": "code",
   "execution_count": null,
   "metadata": {},
   "outputs": [],
   "source": [
    "\n",
    "omega_c = 10\n",
    "nb = 1000\n",
    "omega_value = np.array([-np.log(-float(j) / (nb + 1) + 1.0) * omega_c for j in range(1, nb + 1, 1)])\n"
   ]
  },
  {
   "cell_type": "code",
   "execution_count": null,
   "metadata": {},
   "outputs": [],
   "source": [
    "omega_value.shape[0]"
   ]
  },
  {
   "cell_type": "code",
   "execution_count": null,
   "metadata": {},
   "outputs": [],
   "source": [
    "omega_value"
   ]
  },
  {
   "cell_type": "code",
   "execution_count": null,
   "metadata": {},
   "outputs": [],
   "source": [
    "np.zeros(9)"
   ]
  },
  {
   "cell_type": "code",
   "execution_count": null,
   "metadata": {},
   "outputs": [],
   "source": []
  }
 ],
 "metadata": {
  "kernelspec": {
   "display_name": "reno",
   "language": "python",
   "name": "python3"
  },
  "language_info": {
   "codemirror_mode": {
    "name": "ipython",
    "version": 3
   },
   "file_extension": ".py",
   "mimetype": "text/x-python",
   "name": "python",
   "nbconvert_exporter": "python",
   "pygments_lexer": "ipython3",
   "version": "3.10.14"
  }
 },
 "nbformat": 4,
 "nbformat_minor": 2
}
