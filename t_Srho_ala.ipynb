{
 "cells": [
  {
   "cell_type": "code",
   "execution_count": 1,
   "metadata": {},
   "outputs": [
    {
     "name": "stderr",
     "output_type": "stream",
     "text": [
      "2024-09-23 14:52:42,989[INFO] Use NumPy as backend\n",
      "2024-09-23 14:52:42,990[INFO] numpy random seed is 9012\n",
      "2024-09-23 14:52:42,990[INFO] random seed is 1092\n",
      "2024-09-23 14:52:42,992[INFO] Git Commit Hash: 0e92cabebc362b15d1335e570090315033d407d5\n",
      "2024-09-23 14:52:42,992[INFO] use 64 bits\n"
     ]
    }
   ],
   "source": [
    "import os \n",
    "import numpy as np \n",
    "import pickle\n",
    "from matplotlib import pyplot as plt\n",
    "import matplotlib\n",
    "import shutil\n",
    "# import seaborn as sns\n",
    "# from traj_run import rho_ohmic\n",
    "from typing import Any\n",
    "from numpy import dtype, ndarray\n",
    "import scipy\n",
    "from scipy.optimize import curve_fit\n",
    "from scipy.fft import fft, fftfreq\n",
    "from scipy.interpolate import interp1d\n",
    "import pywt\n",
    "from data_analysis import read_line, read_exp, read_omega, get_rho_array, translate_param, chunk_data, interp_dat, do_fft, \\\n",
    "    fft_analysis, func_gentor, draw_t_S, draw_w_S, wavelet_denoising, line_monotonic_detect, show_result_t_S, \\\n",
    "    show_fft_res, show_w_freqs, show_w_freqs1, get_data_of_vodf, get_signal_freq, do_cft"
   ]
  },
  {
   "cell_type": "code",
   "execution_count": 4,
   "metadata": {},
   "outputs": [],
   "source": [
    "\n",
    "mother_folder = '/home/ansatz/data/comp/sbm/24_09_15'"
   ]
  },
  {
   "cell_type": "code",
   "execution_count": null,
   "metadata": {},
   "outputs": [],
   "source": [
    "vn_entropy_1site_all_lines ={}\n",
    "# for line in sorted([ s for s in os.listdir(mother_folder) if s.startswith('traj_s') ]):\n",
    "#     points = { i_step : f\"_{i_step}_step_entropy_1sites.pickle\" for i_step in range(100) }\n",
    "#     nmodes = int(os.path.basename(line).split('_nmodes')[1].split('_')[0])\n",
    "\n",
    "#     rho_type = 0 if 'rho_type' not in os.path.basename(line) else int(os.path.basename(line).split('rho_type_')[1])    \n",
    "#     key = f\"{line.split('_')[1]}-{line.split('_')[2]}-nmodes{nmodes}-rho{rho_type}\"\n",
    "#     print(key)\n",
    "#     vn_entropy_1site_all_lines[key] = points\n",
    "print('-----')\n",
    "for line in sorted([ s for s in os.listdir(mother_folder) if s.startswith('traj_s') ]):\n",
    "    points = { i_step : f'{i_step:04}_step_entropy_1site.pickle' for i_step in range(100) }\n",
    "    nmodes = int(os.path.basename(line).split('_nmodes')[1].split('_')[0])\n",
    "\n",
    "    rho_type = 0 if 'rho_type' not in os.path.basename(line) else int(os.path.basename(line).split('rho_type_')[1])\n",
    "    key = f\"{line.split('_')[1]}-{line.split('_')[2]}-nmodes{nmodes}-rho{rho_type}\"\n",
    "    # print(key)\n",
    "    vn_entropy_1site_all_lines[key] = points"
   ]
  },
  {
   "cell_type": "code",
   "execution_count": null,
   "metadata": {},
   "outputs": [],
   "source": [
    "vn_entropy_1site_all_lines.keys()"
   ]
  },
  {
   "cell_type": "code",
   "execution_count": 7,
   "metadata": {},
   "outputs": [],
   "source": [
    "def get_freq_cft_xf_yf(mother_folder=mother_folder, data_dict=vn_entropy_1site_all_lines,\\\n",
    "                  s=0.7, alpha=0.4, nmodes=1000, rho_type=0, nsteps=100,\n",
    "                  idof=504):\n",
    "    v_dof = data = get_data_of_vodf(mother_folder=mother_folder, data_dict=vn_entropy_1site_all_lines,\\\n",
    "                  s=s, alpha=alpha, nmodes=nmodes, rho_type=rho_type, nsteps=nsteps,\n",
    "                  idof=idof)\n",
    "    signal = wavelet_denoising(v_dof)\n",
    "    N = 1001\n",
    "    xf, yf = do_cft(np.linspace(0, 10, 100), signal, N)\n",
    "\n",
    "    plt.clf()\n",
    "\n",
    "    \n",
    "    amp = 2.0/N * np.abs(yf)\n",
    "\n",
    "    plt.title(f's_{s}-alpha_{alpha}-nmodes_{nmodes}-rho_type_{rho_type}-nsteps_{nsteps}')\n",
    "    plt.plot(xf, amp, label=f'v_{idof}')\n",
    "    indexs , _ = scipy.signal.find_peaks(amp)\n",
    "    \n",
    "    if len(indexs) != 0 : \n",
    "        peaks = [ amp[index] for index in indexs ]\n",
    "        freqs = [ xf[index] for index in indexs ]\n",
    "        with open(f'data/s{s}-alpha{alpha}-idof_{idof:03}_cft_peaks.pickle', 'wb') as f:\n",
    "            pickle.dump([freqs, peaks], f)\n",
    "        # index = indexs[peaks.index(max(peaks))]\n",
    "        # index = indexs[0]\n",
    "        # print(peaks.index(max(peaks)), index)\n",
    "        # index = indexs[0]\n",
    "        # freq =  xf[index]\n",
    "        # amplitude = amp[index]\n",
    "        # amplitude = 2.0/N * np.abs(yf[index])\n",
    "        # phase = np.angle(np.abs(yf[index]))\n",
    "        # print(freq, amplitude)\n",
    "        sorted_peaks = sorted(peaks, reverse=True)\n",
    "        index = indexs[peaks.index(sorted_peaks[0])]\n",
    "        freq =  xf[index]\n",
    "        amplitude = amp[index]\n",
    "        plt.scatter(freq, amplitude, color='red')\n",
    "        plt.annotate(text=f'{xf[index]}_{amp[index]}', xy=(xf[index], amp[index]), xytext=(xf[index], amp[index]))\n",
    "        if len(indexs) >= 1:\n",
    "            index = indexs[peaks.index(sorted_peaks[1])]\n",
    "            freq =  xf[index]\n",
    "            amplitude = amp[index]\n",
    "            plt.scatter(freq, amplitude, color='red')\n",
    "            plt.annotate(text=f'{xf[index]}_{amp[index]}', xy=(xf[index], amp[index]), xytext=(xf[index], amp[index]))\n",
    "\n",
    "        if len(indexs) >= 2:\n",
    "            index = indexs[peaks.index(sorted_peaks[2])]\n",
    "            freq =  xf[index]\n",
    "            amplitude = amp[index]\n",
    "            plt.scatter(freq, amplitude, color='red')\n",
    "            plt.annotate(text=f'{xf[index]}_{amp[index]}', xy=(xf[index], amp[index]), xytext=(xf[index], amp[index]))\n",
    "        plt.legend()\n",
    "        plt.savefig(f'data/s{s}-alpha{alpha}-idof_{idof:03}_cft_peaks.png')\n",
    "        # plt.clf()\n",
    "        return freq\n",
    "    else:\n",
    "        return 0\n"
   ]
  },
  {
   "cell_type": "code",
   "execution_count": 8,
   "metadata": {},
   "outputs": [],
   "source": [
    "ids = [ i for i in range(1000) if (i+1)%5==0 and i > 98 and i < 630]"
   ]
  },
  {
   "cell_type": "code",
   "execution_count": null,
   "metadata": {},
   "outputs": [],
   "source": [
    "dats = [get_signal_freq(mother_folder=mother_folder, data_dict=vn_entropy_1site_all_lines, s=0.7, alpha=0.4, nmodes=1000, rho_type=0, nsteps=200, imode=i, plot=False) for i in range(1000) if (i+1)%5==0 and i > 98 and i < 630]"
   ]
  },
  {
   "cell_type": "code",
   "execution_count": null,
   "metadata": {},
   "outputs": [],
   "source": [
    "plt.plot([ _[0] for _ in dats ], [ _[1] for _ in dats ])\n",
    "plt.xlim(0, 10)"
   ]
  },
  {
   "cell_type": "code",
   "execution_count": 11,
   "metadata": {},
   "outputs": [],
   "source": [
    "dats = [get_signal_freq(mother_folder=mother_folder, data_dict=vn_entropy_1site_all_lines, s=0.7, alpha=0.8, nmodes=1000, rho_type=0, nsteps=100, imode=i, plot=False) for i in range(1000) if (i+1)%5==0 and i > 98 and i < 630]"
   ]
  },
  {
   "cell_type": "code",
   "execution_count": null,
   "metadata": {},
   "outputs": [],
   "source": [
    "plt.plot([ _[0] for _ in dats ], [ _[1] for _ in dats ])\n",
    "plt.xlim(0, 10)"
   ]
  },
  {
   "cell_type": "code",
   "execution_count": 13,
   "metadata": {},
   "outputs": [],
   "source": [
    "dats = [get_signal_freq(mother_folder=mother_folder, data_dict=vn_entropy_1site_all_lines, s=0.7, alpha=0.05, nmodes=1000, rho_type=0, nsteps=200, imode=i, plot=False) for i in range(1000) if (i+1)%5==0 and i > 98 and i < 630]"
   ]
  },
  {
   "cell_type": "code",
   "execution_count": null,
   "metadata": {},
   "outputs": [],
   "source": [
    "plt.plot([ _[0] for _ in dats ], [ _[1] for _ in dats ])\n",
    "plt.xlim(0, 10)"
   ]
  },
  {
   "cell_type": "code",
   "execution_count": null,
   "metadata": {},
   "outputs": [],
   "source": []
  },
  {
   "cell_type": "code",
   "execution_count": null,
   "metadata": {},
   "outputs": [],
   "source": [
    "dats = [get_freq_cft_xf_yf(mother_folder=mother_folder, data_dict=vn_entropy_1site_all_lines, s=0.7, alpha=0.4, nmodes=1000, rho_type=0, nsteps=200, idof=i) for i in range(1000) if (i+1)%5==0 and i > 98 and i < 630]"
   ]
  },
  {
   "cell_type": "code",
   "execution_count": null,
   "metadata": {},
   "outputs": [],
   "source": [
    "plt.plot(dats)"
   ]
  },
  {
   "cell_type": "code",
   "execution_count": null,
   "metadata": {},
   "outputs": [],
   "source": []
  },
  {
   "cell_type": "code",
   "execution_count": 19,
   "metadata": {},
   "outputs": [],
   "source": [
    "data_559 = get_data_of_vodf(mother_folder=mother_folder, data_dict=vn_entropy_1site_all_lines,\\\n",
    "                  s=0.7, alpha=0.4, nmodes=1000, rho_type=0, nsteps=100,\n",
    "                  idof=559)"
   ]
  },
  {
   "cell_type": "code",
   "execution_count": 20,
   "metadata": {},
   "outputs": [],
   "source": [
    "data_564 = get_data_of_vodf(mother_folder=mother_folder, data_dict=vn_entropy_1site_all_lines,\\\n",
    "                  s=0.7, alpha=0.4, nmodes=1000, rho_type=0, nsteps=100,\n",
    "                  idof=564)"
   ]
  },
  {
   "cell_type": "code",
   "execution_count": 21,
   "metadata": {},
   "outputs": [],
   "source": [
    "data_569 = get_data_of_vodf(mother_folder=mother_folder, data_dict=vn_entropy_1site_all_lines,\\\n",
    "                  s=0.7, alpha=0.4, nmodes=1000, rho_type=0, nsteps=100,\n",
    "                  idof=569)"
   ]
  },
  {
   "cell_type": "code",
   "execution_count": null,
   "metadata": {},
   "outputs": [],
   "source": [
    "plt.plot(np.linspace(0,10,100), data_559, label='v559')\n",
    "plt.plot(np.linspace(0,10,100), data_564, label='v564')\n",
    "plt.plot(np.linspace(0,10,100), data_569, label='v569')\n",
    "plt.legend()\n",
    "plt.title('s=0.7, alpha=0.4, nmodes=1000, rho_type=0, nsteps=100')"
   ]
  },
  {
   "cell_type": "code",
   "execution_count": 7,
   "metadata": {},
   "outputs": [],
   "source": [
    "ids = [ i for i in range(1000) if (i+1)%5==0 and i > 98 and i < 630]"
   ]
  },
  {
   "cell_type": "code",
   "execution_count": 5,
   "metadata": {},
   "outputs": [],
   "source": [
    "data = get_data_of_vodf(mother_folder=mother_folder, data_dict=vn_entropy_1site_all_lines,\\\n",
    "                  s=0.7, alpha=0.4, nmodes=1000, rho_type=0, nsteps=100,\n",
    "                  idof=504)"
   ]
  },
  {
   "cell_type": "code",
   "execution_count": 9,
   "metadata": {},
   "outputs": [],
   "source": [
    "xf, yf = do_cft(np.linspace(0, 10, 100), v_dof, 1001)"
   ]
  },
  {
   "cell_type": "code",
   "execution_count": 7,
   "metadata": {},
   "outputs": [],
   "source": [
    "v_dof = data = get_data_of_vodf(mother_folder=mother_folder, data_dict=vn_entropy_1site_all_lines,\\\n",
    "                  s=0.7, alpha=0.4, nmodes=1000, rho_type=0, nsteps=100,\n",
    "                  idof=564)\n",
    "N = 1001\n",
    "xf, yf = do_cft(np.linspace(0, 10, 100), v_dof, N)"
   ]
  },
  {
   "cell_type": "code",
   "execution_count": 6,
   "metadata": {},
   "outputs": [],
   "source": [
    "def get_true_peaks_cft(xf, yf, N):\n",
    "    \n",
    "    amp = 2.0/N * np.abs(yf)\n",
    "\n",
    "    max_indexs = scipy.signal.argrelmax(amp)[0]\n",
    "    min_indexs = scipy.signal.argrelmin(amp)[0]\n",
    "    peaks = []\n",
    "    for i_peak in range(len(max_indexs)):\n",
    "        peak_index = max_indexs[i_peak]\n",
    "        left_index = min_indexs[min_indexs < peak_index][-1]\n",
    "        right_index = min_indexs[min_indexs > peak_index][0]\n",
    "        base_line = (amp[left_index] + amp[right_index])/2\n",
    "        value = amp[peak_index] - base_line\n",
    "        peaks.append(value)\n",
    "    return max_indexs.tolist(), peaks\n"
   ]
  },
  {
   "cell_type": "code",
   "execution_count": null,
   "metadata": {},
   "outputs": [],
   "source": [
    "get_true_peaks_cft(xf, yf, N)"
   ]
  },
  {
   "cell_type": "code",
   "execution_count": null,
   "metadata": {},
   "outputs": [],
   "source": [
    "amp = 2.0/N * np.abs(yf)\n",
    "\n",
    "max_indexs = scipy.signal.argrelmax(amp)[0]\n",
    "min_indexs = scipy.signal.argrelmin(amp)[0]\n",
    "peaks = []\n",
    "for i_peak in range(len(max_indexs)):\n",
    "    peak_index = max_indexs[i_peak]\n",
    "    left_index = min_indexs[min_indexs < peak_index][-1]\n",
    "    right_index = min_indexs[min_indexs > peak_index][0]\n",
    "    base_line = (amp[left_index] + amp[right_index])/2\n",
    "    value = amp[peak_index] - base_line\n",
    "    peaks.append(value)\n",
    "\n",
    "sorted_peaks = sorted(peaks, reverse=True)\n",
    "index = max_indexs[peaks.index(sorted_peaks[0])] # xf index\n",
    "freq =  xf[index]\n",
    "amplitude = peaks[peaks.index(sorted_peaks[0])]\n",
    "plt.scatter(freq, amplitude, color='red')\n",
    "plt.annotate(text=f'{freq}_{amplitude:02f}', xy=(xf[index], amp[index]), xytext=(xf[index], amp[index]))\n",
    "plt.plot(xf, amp)\n",
    "\n",
    "if len(max_indexs) >= 1:\n",
    "    index = max_indexs[peaks.index(sorted_peaks[1])]\n",
    "    freq =  xf[index]\n",
    "    amplitude = peaks[peaks.index(sorted_peaks[1])]\n",
    "    plt.scatter(freq, amplitude, color='red')\n",
    "    plt.annotate(text=f'{freq}_{amplitude:02f}', xy=(xf[index], amp[index]), xytext=(xf[index], amp[index]))\n",
    "if len(max_indexs) >= 2:\n",
    "    index = max_indexs[peaks.index(sorted_peaks[2])]\n",
    "    freq =  xf[index]\n",
    "    amplitude = peaks[peaks.index(sorted_peaks[2])]\n",
    "    plt.scatter(freq, amplitude, color='red')\n",
    "    plt.annotate(text=f'{freq}_{amplitude:02f}', xy=(xf[index], amp[index]), xytext=(xf[index], amp[index]))\n",
    "plt.xlim(0.1, 5)"
   ]
  },
  {
   "cell_type": "code",
   "execution_count": 37,
   "metadata": {},
   "outputs": [],
   "source": [
    "peak_index = max_indexs[0]\n",
    "left_index = min_indexs[min_indexs < peak_index][-1]\n",
    "right_index = min_indexs[min_indexs > peak_index][0]"
   ]
  },
  {
   "cell_type": "code",
   "execution_count": null,
   "metadata": {},
   "outputs": [],
   "source": [
    "base_line = (amp[left_index] + amp[right_index])/2\n",
    "value = amp[peak_index] - base_line"
   ]
  },
  {
   "cell_type": "code",
   "execution_count": 28,
   "metadata": {},
   "outputs": [],
   "source": [
    "peak_index = max_indexs[0]"
   ]
  },
  {
   "cell_type": "code",
   "execution_count": null,
   "metadata": {},
   "outputs": [],
   "source": [
    "min_indexs[min_indexs < peak_index][-1]"
   ]
  },
  {
   "cell_type": "code",
   "execution_count": null,
   "metadata": {},
   "outputs": [],
   "source": [
    "min_indexs[min_indexs > peak_index][0]"
   ]
  },
  {
   "cell_type": "code",
   "execution_count": null,
   "metadata": {},
   "outputs": [],
   "source": [
    "plt.plot(xf, np.abs(yf))"
   ]
  },
  {
   "cell_type": "code",
   "execution_count": null,
   "metadata": {},
   "outputs": [],
   "source": []
  },
  {
   "cell_type": "code",
   "execution_count": null,
   "metadata": {},
   "outputs": [],
   "source": [
    "imodes, ws, freqs, amps, xfs, fft_amps, key = show_result_t_S(mother_folder=mother_folder, data_dict=vn_entropy_1site_all_lines, s=0.7, alpha=0.4, nmodes=1000, rho_type=0, step_length=1, query_modes=None)"
   ]
  },
  {
   "cell_type": "code",
   "execution_count": null,
   "metadata": {},
   "outputs": [],
   "source": [
    "show_w_freqs1(key, ws, freqs, imodes, xfs, fft_amps)"
   ]
  },
  {
   "cell_type": "code",
   "execution_count": null,
   "metadata": {},
   "outputs": [],
   "source": []
  },
  {
   "cell_type": "code",
   "execution_count": null,
   "metadata": {},
   "outputs": [],
   "source": [
    "# index = 40\n",
    "# x, y =  xfs[index], fft_amps[index]\n",
    "# plt.plot(x[:20], y[:20])"
   ]
  },
  {
   "cell_type": "code",
   "execution_count": 8,
   "metadata": {},
   "outputs": [],
   "source": [
    "dats = [(get_signal_freq(mother_folder=mother_folder, data_dict=vn_entropy_1site_all_lines, s=0.7, alpha=0.4, nmodes=1000, rho_type=0, nsteps=100, imode=i, plot=False) , i )for i in range(1000) if (i+1)%5==0 and i > 98 and i < 630]"
   ]
  },
  {
   "cell_type": "code",
   "execution_count": null,
   "metadata": {},
   "outputs": [],
   "source": [
    "dats"
   ]
  },
  {
   "cell_type": "code",
   "execution_count": null,
   "metadata": {},
   "outputs": [],
   "source": [
    "vids[98]"
   ]
  },
  {
   "cell_type": "code",
   "execution_count": null,
   "metadata": {},
   "outputs": [],
   "source": [
    "freqs[589]"
   ]
  },
  {
   "cell_type": "code",
   "execution_count": null,
   "metadata": {},
   "outputs": [],
   "source": [
    "plt.plot(freqs)"
   ]
  },
  {
   "cell_type": "code",
   "execution_count": null,
   "metadata": {},
   "outputs": [],
   "source": [
    "\n",
    "for i in range(0, 1000, 4):\n",
    "    print(i)"
   ]
  },
  {
   "cell_type": "code",
   "execution_count": null,
   "metadata": {},
   "outputs": [],
   "source": [
    "plt.title(f's0.7 alpha 0.4 nmodes 1000 rho_type 0 w-freqs from mode 99-629')\n",
    "plt.plot(ws[imodes.index(94):imodes.index(629)], freqs,'o')\n",
    "plt.xlabel('freq of phonon')\n",
    "plt.ylabel('freq of S')\n",
    "plt.xlim(0,10)\n",
    "plt.ylim(0,max(freqs))"
   ]
  },
  {
   "cell_type": "code",
   "execution_count": 11,
   "metadata": {},
   "outputs": [],
   "source": [
    "x = np.linspace(0, 10, 100)\n"
   ]
  },
  {
   "cell_type": "code",
   "execution_count": 12,
   "metadata": {},
   "outputs": [],
   "source": [
    "signal = get_data_of_vodf(mother_folder=mother_folder, data_dict=vn_entropy_1site_all_lines, s=0.7, alpha=0.40, nmodes=1000, rho_type=0, idof=4, nsteps = 100)\n",
    "x_uniform, y_uniform = interp_dat(np.linspace(0,10,100), np.array(signal), 1000, kind='quadratic')\n",
    "y_deno = wavelet_denoising(y_uniform)"
   ]
  },
  {
   "cell_type": "code",
   "execution_count": 13,
   "metadata": {},
   "outputs": [],
   "source": [
    "x_uniform, y_uniform = interp_dat(np.linspace(0,10,100), np.array(signal), 1000, kind='quadratic')"
   ]
  },
  {
   "cell_type": "code",
   "execution_count": null,
   "metadata": {},
   "outputs": [],
   "source": []
  },
  {
   "cell_type": "code",
   "execution_count": 14,
   "metadata": {},
   "outputs": [],
   "source": [
    "detect_res = line_monotonic_detect(y_uniform)"
   ]
  },
  {
   "cell_type": "code",
   "execution_count": null,
   "metadata": {},
   "outputs": [],
   "source": [
    "plt.plot(x_uniform, y_uniform,label='int')\n",
    "# plt.plot(x, signal,label='ori')\n",
    "plt.legend()"
   ]
  },
  {
   "cell_type": "code",
   "execution_count": 16,
   "metadata": {},
   "outputs": [],
   "source": [
    "y_deno = wavelet_denoising(y_uniform)"
   ]
  },
  {
   "cell_type": "code",
   "execution_count": null,
   "metadata": {},
   "outputs": [],
   "source": [
    "plt.plot(np.linspace(0, 10, 1000), y_deno)"
   ]
  },
  {
   "cell_type": "code",
   "execution_count": 18,
   "metadata": {},
   "outputs": [],
   "source": [
    "\n",
    "time_data= np.linspace(0, 10, 1000)\n",
    "\n",
    "dt_indexs = scipy.signal.argrelmax(y_deno)[0]"
   ]
  },
  {
   "cell_type": "code",
   "execution_count": 19,
   "metadata": {},
   "outputs": [],
   "source": [
    "def average_T(time_data, dt_indexs):\n",
    "    Ts = []\n",
    "    for i in range(1, len(dt_indexs)):\n",
    "        index0 = dt_indexs[i-1]\n",
    "        index1 = dt_indexs[i]\n",
    "        T = time_data[index1] - time_data[index0]\n",
    "        Ts.append(T)\n",
    "    return np.mean(Ts)"
   ]
  },
  {
   "cell_type": "code",
   "execution_count": null,
   "metadata": {},
   "outputs": [],
   "source": [
    "1/ average_T(time_data, dt_indexs)"
   ]
  },
  {
   "cell_type": "code",
   "execution_count": 16,
   "metadata": {},
   "outputs": [],
   "source": [
    "xf, yf = do_fft(np.linspace(0, 10, 1000), y_deno, 1000)"
   ]
  },
  {
   "cell_type": "code",
   "execution_count": null,
   "metadata": {},
   "outputs": [],
   "source": []
  },
  {
   "cell_type": "code",
   "execution_count": 17,
   "metadata": {},
   "outputs": [],
   "source": [
    "N = 1000"
   ]
  },
  {
   "cell_type": "code",
   "execution_count": 18,
   "metadata": {},
   "outputs": [],
   "source": [
    "freq, amplitude, phase = fft_analysis(xf, yf, N)"
   ]
  },
  {
   "cell_type": "code",
   "execution_count": null,
   "metadata": {},
   "outputs": [],
   "source": [
    "plt.plot(xf[:100], 2.0/N * np.real(yf)[:100])"
   ]
  },
  {
   "cell_type": "code",
   "execution_count": 20,
   "metadata": {},
   "outputs": [],
   "source": [
    "def test_1(imode):\n",
    "    signal = get_data_of_vodf(s=0.7, alpha=0.40, nmodes=1000, rho_type=0, idof=imode, nsteps = 100)\n",
    "    x_uniform, y_uniform = interp_dat(np.linspace(0,10,100), np.array(signal), 1000, kind='quadratic')\n",
    "    y_deno = wavelet_denoising(y_uniform)\n",
    "    plt.plot(y_deno, label=f'v_{imode}')\n",
    "    N = 1000\n",
    "    xf, yf = do_fft(np.linspace(0, 10, N), y_deno, N)\n",
    "    freq, amplitude, phase = fft_analysis(xf, yf, N)\n",
    "    plt.legend(loc=2, bbox_to_anchor=(1.0, 1.0))\n",
    "    return freq"
   ]
  },
  {
   "cell_type": "code",
   "execution_count": 36,
   "metadata": {},
   "outputs": [],
   "source": [
    "def test_2(imode):\n",
    "    signal = get_data_of_vodf(s=0.7, alpha=0.40, nmodes=1000, rho_type=0, idof=imode, nsteps = 100)\n",
    "    x_uniform, y_uniform = interp_dat(np.linspace(0,10,100), np.array(signal), 1000, kind='quadratic')\n",
    "    y_deno = wavelet_denoising(y_uniform)\n",
    "\n",
    "    time_data= np.linspace(0, 10, 1000)\n",
    "\n",
    "    dt_indexs = scipy.signal.argrelmax(y_deno)[0]\n",
    "    plt.plot(y_deno, label=f'v_{imode}')\n",
    "    # N = 1000\n",
    "    # xf, yf = do_fft(np.linspace(0, 10, N), y_deno, N)\n",
    "    # freq, amplitude, phase = fft_analysis(xf, yf, N)\n",
    "    freq = 1/ average_T(time_data, dt_indexs)\n",
    "    plt.legend(loc=2, bbox_to_anchor=(1.0, 1.0))\n",
    "    return freq"
   ]
  },
  {
   "cell_type": "code",
   "execution_count": null,
   "metadata": {},
   "outputs": [],
   "source": [
    "freqs = [test_1(i) for i in range(1000) if (i+1)%5==0 and i > 98 and i < 630]\n",
    "\n"
   ]
  },
  {
   "cell_type": "code",
   "execution_count": null,
   "metadata": {},
   "outputs": [],
   "source": [
    "freqs = [test_2(i) for i in range(1000) if (i+1)%5==0 and i > 98 and i < 630]"
   ]
  },
  {
   "cell_type": "code",
   "execution_count": null,
   "metadata": {},
   "outputs": [],
   "source": [
    "plt.plot([i for i in range(1000) if (i+1)%5==0 and i > 98 and i < 630], freqs)"
   ]
  },
  {
   "cell_type": "code",
   "execution_count": null,
   "metadata": {},
   "outputs": [],
   "source": [
    "freqs"
   ]
  },
  {
   "cell_type": "code",
   "execution_count": null,
   "metadata": {},
   "outputs": [],
   "source": [
    "freqs"
   ]
  },
  {
   "cell_type": "code",
   "execution_count": null,
   "metadata": {},
   "outputs": [],
   "source": [
    "output.shape"
   ]
  },
  {
   "cell_type": "code",
   "execution_count": null,
   "metadata": {},
   "outputs": [],
   "source": []
  },
  {
   "cell_type": "code",
   "execution_count": null,
   "metadata": {},
   "outputs": [],
   "source": [
    "output = [ output[i][0] for i in range(len(output))]\n",
    "plt.plot(output)"
   ]
  },
  {
   "cell_type": "code",
   "execution_count": null,
   "metadata": {},
   "outputs": [],
   "source": [
    "scipy.signal.find_peaks(output)"
   ]
  },
  {
   "cell_type": "code",
   "execution_count": null,
   "metadata": {},
   "outputs": [],
   "source": [
    "for i in range(3,10):\n",
    "    print(i)"
   ]
  },
  {
   "cell_type": "code",
   "execution_count": null,
   "metadata": {},
   "outputs": [],
   "source": []
  }
 ],
 "metadata": {
  "kernelspec": {
   "display_name": "reno",
   "language": "python",
   "name": "python3"
  },
  "language_info": {
   "codemirror_mode": {
    "name": "ipython",
    "version": 3
   },
   "file_extension": ".py",
   "mimetype": "text/x-python",
   "name": "python",
   "nbconvert_exporter": "python",
   "pygments_lexer": "ipython3",
   "version": "3.10.14"
  }
 },
 "nbformat": 4,
 "nbformat_minor": 2
}
