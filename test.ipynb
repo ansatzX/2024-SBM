{
 "cells": [
  {
   "cell_type": "code",
   "execution_count": null,
   "metadata": {},
   "outputs": [],
   "source": [
    "# fig 1\n",
    "alpha_lst = [0.05, 0.15, 0.2, 0.3, 0.4, 0.5, 0.8]\n",
    "s_lst   = [0.7 for _ in range(7)]\n",
    "# omega_c_lst = [ 10 for _ in range(7)]\n",
    "# nmodes_lst = [ 1000 for _ in range(7)]\n",
    "# bond_dims_lst = [20 for _ in range(7)]\n",
    "\n",
    "# td_method_lst = [0 for _ in range(7)]"
   ]
  },
  {
   "cell_type": "code",
   "execution_count": null,
   "metadata": {},
   "outputs": [],
   "source": [
    "# fig 2\n",
    "alpha_lst = [0.8 for _ in range(7)]\n",
    "s_lst   = [0.3, 0.4, 0.45, 0.5, 0.55, 0.6, 0.7 ]\n",
    "# omega_c_lst = [ 10 for _ in range(7)]\n",
    "# nmodes_lst = [ 1000 for _ in range(7)]\n",
    "# bond_dims_lst = [20 for _ in range(7)]\n",
    "# td_method_lst = [0 for _ in range(7)]"
   ]
  },
  {
   "cell_type": "code",
   "execution_count": null,
   "metadata": {},
   "outputs": [],
   "source": [
    "# fig 3\n",
    "alpha_lst = [0.05, 0.1, 0.125, 0.15, 0.2, 0.25, 0.3, 0.5, 0.8]\n",
    "s_lst   = [0.3 for _ in range(9)]\n",
    "# omega_c_lst = [ 10 for _ in range(9)]\n",
    "\n",
    "# nmodes_lst = [ 1000 for _ in range(9)]\n",
    "# bond_dims_lst = [20 for _ in range(9)]\n",
    "# td_method_lst = [0 for _ in range(7)]"
   ]
  },
  {
   "cell_type": "code",
   "execution_count": null,
   "metadata": {},
   "outputs": [],
   "source": [
    "# parm_test\\\n",
    "# fig3 \n",
    "alpha_lst = [0.05 for _ in range(9)]\n",
    "s_lst   = [0.3 for _ in range(9)]\n",
    "omega_c_lst = [ 10 for _ in range(9)]\n",
    "nmodes_lst = [ 1000 for _ in range(9)]\n",
    "bond_dims_lst = [20+i*5  for i in range(9)]\n",
    "td_method_lst = [0 for _ in range(7)]\n",
    "\n",
    "# results: nmodes=1000 is enough"
   ]
  },
  {
   "cell_type": "code",
   "execution_count": null,
   "metadata": {},
   "outputs": [],
   "source": [
    "# parm_test\\\n",
    "# fig3 \n",
    "alpha_lst = [0.05 for _ in range(9)]\n",
    "s_lst   = [0.3 for _ in range(9)]\n",
    "omega_c_lst = [ 10 for _ in range(9)]\n",
    "nmodes_lst = [ 1000+i*100 for i in range(9)]\n",
    "bond_dims_lst = [20 for _ in range(9)]\n",
    "td_method_lst = [0 for _ in range(7)]\n",
    "# results: bond_dims=20 is enough"
   ]
  },
  {
   "cell_type": "code",
   "execution_count": null,
   "metadata": {},
   "outputs": [],
   "source": [
    "# parm_test\\\n",
    "# fig3 \n",
    "alpha_lst = [0.05 for _ in range(4)]\n",
    "s_lst   = [0.3 for _ in range(4)]\n",
    "omega_c_lst = [ 10 for _ in range(4)]\n",
    "nmodes_lst = [ 1000 for _ in range(4)]\n",
    "bond_dims_lst = [20 for _ in range(4)]\n",
    "td_method_lst = [i for i in range(4)]"
   ]
  },
  {
   "cell_type": "code",
   "execution_count": null,
   "metadata": {},
   "outputs": [],
   "source": [
    "f = open('run.sh','w')\n",
    "for idx in range(len(s_lst)):\n",
    "        alpha = alpha_lst[idx]\n",
    "        s = s_lst[idx]\n",
    "        # omega_c = omega_c_lst[idx]\n",
    "        \n",
    "        # nmodes = nmodes_lst[idx]\n",
    "        # bond_dims = bond_dims_lst[idx]\n",
    "        # td_method = td_method_lst[idx]\n",
    "        f.write(f'python3 traj_run.py --s {s:.2f} --alpha {alpha:.2f} --nsteps 100 \\n')# --omega 1 --omega_c {omega_c}  --nmodes {nmodes} --bond_dims {bond_dims} --td_method {td_method}\n",
    "        print(alpha, s)\n",
    "f.close()"
   ]
  },
  {
   "cell_type": "code",
   "execution_count": null,
   "metadata": {},
   "outputs": [],
   "source": [
    "\n",
    "with open('run.sh','r') as f:\n",
    "    text_lines = f.readlines()\n",
    "\n",
    "slice = (0, len(text_lines))\n",
    "with open('p_run.make', 'w') as f:\n",
    "    all_str = ''\n",
    "    for i in range(slice[0], slice[1]):\n",
    "        all_str = all_str + f'\\trun{i}\\t'\n",
    "    f.write(f'all:\\t{all_str}\\n')\n",
    "    f.write('\\n')\n",
    "    for i in range(slice[0], slice[1]):\n",
    "        line = text_lines[i]\n",
    "        f.write(f'run{i}:\\n')\n",
    "        f.write(f'\\t{line}')\n",
    "        f.write('\\n')\n"
   ]
  },
  {
   "cell_type": "code",
   "execution_count": null,
   "metadata": {},
   "outputs": [],
   "source": []
  },
  {
   "cell_type": "code",
   "execution_count": null,
   "metadata": {},
   "outputs": [],
   "source": []
  }
 ],
 "metadata": {
  "kernelspec": {
   "display_name": "reno",
   "language": "python",
   "name": "python3"
  },
  "language_info": {
   "codemirror_mode": {
    "name": "ipython",
    "version": 3
   },
   "file_extension": ".py",
   "mimetype": "text/x-python",
   "name": "python",
   "nbconvert_exporter": "python",
   "pygments_lexer": "ipython3",
   "version": "3.8.15"
  }
 },
 "nbformat": 4,
 "nbformat_minor": 2
}
